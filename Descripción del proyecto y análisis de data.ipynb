{
 "cells": [
  {
   "cell_type": "markdown",
   "metadata": {},
   "source": [
    "# All State CSV\n",
    "\n",
    "## Descripción\n",
    "\n",
    "El archivo con el que se realizó el proyecto cuenta con los datos tomados en una compañía de ventas de seguros. Los datos fueron recolectados en las sucursales de todo el país (EEUU) y en durante el período de una semana (Lu - Do). \n",
    "\n",
    "\n",
    "El objetivo del proyecto fue contestar una serie de preguntas planteadas en conjunto por el curso de Data Science. Las 10 preguntas a contestar son las siguientes:\n",
    "\n",
    "\n",
    "1. ¿Qué características tienen los grupos a los que se les cotiza los seguros más baratos?\n",
    "2. ¿Qué tan probable es que se compre un seguro después de la k-ésima cotización?\n",
    "3. Basados en la edad del más joven. ¿Que grupo tiene mayor probabilidad de comprar un seguro?\n",
    "4. ¿Que edad promedio tienen las personas dueñas de carros vieos y carros nuevos?\n",
    "5. ¿Probabilidad de que alguien de edad k compre un seguro?\n",
    "6. ¿Que estado, en promedio, necesita menos cotizaciones?\n",
    "7. ¿Cuántas cotizaciones, previo la compra, realizan los consumidores del estado de Florida?\n",
    "8. ¿En qué tiempo prudente se realizan las cotizaciones?\n",
    "9. ¿Del total de carros que porcentaje tiene menos de k años?\n",
    "10. ¿Que edad necesita menos cotizaciones para comprar un seguro?\n",
    "\n",
    "\n",
    "Una vez contestadas las preguntas, el producto final ha sido una infografía realizada en base a las respuestas obtenidas del análisis de datos.\n"
   ]
  },
  {
   "cell_type": "markdown",
   "metadata": {},
   "source": [
    "## Análisis de Datos \n",
    "\n",
    "En esta sección se visualizan los comandos utilizados para llegar a cada pregunta en específico."
   ]
  },
  {
   "cell_type": "markdown",
   "metadata": {},
   "source": [
    "**¿Qué características tienen los grupos a los que se les cotiza los seguros más baratos?**"
   ]
  },
  {
   "cell_type": "code",
   "execution_count": null,
   "metadata": {
    "collapsed": true
   },
   "outputs": [],
   "source": [
    "import pandas as pd\n",
    "import numpy as np\n",
    "from __future__ import division\n",
    "import matplotlib.pyplot as plt\n",
    "import seaborn as sns\n",
    "\n",
    "# se escogio el valor 605 porque es el primer cuartil.\n",
    "​\n",
    "q = csv[(csv.cost<605)]\n",
    "​\n",
    "q.state.mode()\n",
    "​\n",
    "# Estado que más se repite = Florida\n",
    "​\n",
    "​\n",
    "q.car_value.mode()\n",
    "​\n",
    "# El value que más se repite en los carros asegurados por debajo de  la media es E (menor valor)\n",
    "​\n",
    "q.risk_factor.mode()\n",
    "​\n",
    "#El factor de riesgo que más se repite es 1 (el menor)\n",
    "​\n",
    "sns.distplot(q.age_oldest)\n",
    "​\n",
    "sns.distplot(csv.age_oldest)\n",
    "​\n",
    "q.age_oldest.describe()\n",
    "​\n",
    "#La edad que más se repite en los seguros más baratos  por mucho es 75 años.¿Es relevante?\n",
    "​\n",
    "​\n",
    "menor = q[(q.age_oldest<75)]\n",
    "​\n",
    "print menor\n",
    "​\n",
    "sns.distplot(menor.age_oldest)\n",
    "​\n",
    "menor.age_oldest.mode()\n",
    "​\n",
    "# De igual manera se repite que las personas mayores son más baratas de asegurar.\n",
    "​\n",
    "​\n",
    "sns.distplot(q.group_size)\n",
    "​\n",
    "q.group_size.describe()\n",
    "​\n",
    "#comparar con toda la base de datos para ver si afecta el grupo\n",
    "​\n",
    "df1 =csv[(csv.group_size > 1)]\n",
    "​\n",
    "df1.cost.describe()\n",
    "​\n",
    "sns.distplot(df1.cost)\n",
    "​\n",
    "​\n",
    "df2 =csv[(csv.group_size > 2)]\n",
    "​\n",
    "df2.cost.describe()\n",
    "​\n",
    "sns.distplot(df2.cost)\n",
    "​\n",
    "#El tamaño del grupo no afecta signigicativamente el costo\n",
    "​\n",
    "​\n",
    "q.car_age.describe()\n",
    "​\n",
    "q.car_age.mode()\n",
    "​\n",
    "sns.distplot(q.car_age)\n",
    "​\n",
    "sns.distplot(csv.car_age)\n",
    "​\n",
    "​\n",
    "q.homeowner.describe()\n",
    "​\n",
    "q.homeowner.mode()\n"
   ]
  },
  {
   "cell_type": "markdown",
   "metadata": {},
   "source": [
    "**¿Qué tan probable es que se compre un seguro después de la k-ésima cotización?**"
   ]
  },
  {
   "cell_type": "code",
   "execution_count": 1,
   "metadata": {
    "collapsed": false
   },
   "outputs": [
    {
     "ename": "SyntaxError",
     "evalue": "invalid syntax (<ipython-input-1-ee46541e09a3>, line 7)",
     "output_type": "error",
     "traceback": [
      "\u001b[1;36m  File \u001b[1;32m\"<ipython-input-1-ee46541e09a3>\"\u001b[1;36m, line \u001b[1;32m7\u001b[0m\n\u001b[1;33m    ​\u001b[0m\n\u001b[1;37m    ^\u001b[0m\n\u001b[1;31mSyntaxError\u001b[0m\u001b[1;31m:\u001b[0m invalid syntax\n"
     ]
    }
   ],
   "source": [
    "\n",
    "import pandas as pd\n",
    "import numpy as np\n",
    "from __future__ import division\n",
    "import matplotlib.pyplot as plt\n",
    "import seaborn as sns\n",
    "​\n",
    "​\n",
    "csv = pd.read_csv('allstate.csv')\n",
    "n = csv.shopping_pt[csv.shopping_pt == 5].count()\n",
    "d = csv.shopping_pt[csv.shopping_pt == 1].count()\n",
    "    \n",
    "x = 100 - ((n/d) * 100)\n",
    "    \n",
    "y = \"La probabilidad de compra en la cotizacion no. 5 o antes es de \" + str(x)\n",
    "    \n",
    "print y"
   ]
  },
  {
   "cell_type": "markdown",
   "metadata": {},
   "source": [
    "**Basados en la edad del más joven. ¿Que grupo tiene mayor probabilidad de comprar un seguro?**"
   ]
  },
  {
   "cell_type": "code",
   "execution_count": null,
   "metadata": {
    "collapsed": true
   },
   "outputs": [],
   "source": [
    "import pandas as pd\n",
    "import numpy as np\n",
    "from __future__ import division\n",
    "import matplotlib.pyplot as plt\n",
    "import seaborn as sns\n",
    "\n",
    "young=csv['age_youngest'].min()\n",
    "youngin=csv[(csv.age_youngest==young)&(csv.record_type==1)]\n",
    "youngin.car_age.mean()\n",
    "youngin.group_size.mean()\n",
    "print(\"basados en la edad del mas joven, carro de \"+str(youngin.car_age.mean())[0:4]+\" años tiene mas probabilidad de comprar un seguro\")\n",
    "print(\"basados en la edad del mas joven, el tamaño del grupo \"+str(youngin.group_size.mean())[0:4]+\" tiene mas probabilidad de comprar un seguro\")\n",
    "​\n",
    "#basados en la edad del mas joven, carro de 9.43 años tiene mas probabilidad de comprar un seguro\n",
    "#basados en la edad del mas joven, el tamaño del grupo 1.95 tiene mas probabilidad de comprar un seguro\n",
    "​\n",
    "​\n",
    "​"
   ]
  },
  {
   "cell_type": "markdown",
   "metadata": {},
   "source": [
    "**¿Que edad promedio tienen las personas dueñas de carros vieos y carros nuevos?**"
   ]
  },
  {
   "cell_type": "code",
   "execution_count": null,
   "metadata": {
    "collapsed": true
   },
   "outputs": [],
   "source": [
    "import pandas as pd\n",
    "import numpy as np\n",
    "from __future__ import division\n",
    "import matplotlib.pyplot as plt\n",
    "import seaborn as sns\n",
    "\n",
    "edad = csv[['car_age','age_oldest']]  \n",
    "e1 = edad[edad.car_age == edad.car_age.max()] \n",
    "edades = e1.age_oldest.mean()\n",
    "print edades \n",
    "edad = csv[['car_age','age_youngest']]  \n",
    "e1 = edad[edad.car_age == edad.car_age.max()] \n",
    "edades = e1.age_youngest.mean()\n",
    "print edades \n",
    "​\n",
    "edad = csv[['car_age','age_oldest']]  \n",
    "e1 = edad[edad.car_age == edad.car_age.min()] \n",
    "edades= e1.age_oldest.mean()\n",
    "print edades \n",
    "    \n",
    "edad = csv[['car_age','age_youngest']]  \n",
    "e1 = edad[edad.car_age == edad.car_age.min()] \n",
    "edades = e1.age_youngest.mean()\n",
    "print edades"
   ]
  },
  {
   "cell_type": "markdown",
   "metadata": {},
   "source": [
    "**¿Probabilidad de que alguien de edad k compre un seguro?**"
   ]
  },
  {
   "cell_type": "code",
   "execution_count": null,
   "metadata": {
    "collapsed": true
   },
   "outputs": [],
   "source": [
    "import pandas as pd\n",
    "import numpy as np\n",
    "from __future__ import division\n",
    "import matplotlib.pyplot as plt\n",
    "import seaborn as sns\n",
    "\n",
    "edad=35\n",
    "info=csv[csv['age_oldest']==edad]\n",
    "totales=sum(csv['record_type']==1)\n",
    "compra=sum(info['record_type']==1)\n",
    "probabilidad=((compra/1.0)/(totales/1.0))*100\n",
    "df=csv[csv['age_youngest']==edad]\n",
    "compra2=sum(df['record_type']==1)\n",
    "probabilidad2=((compra2/1.0)/(totales/1.0))*100\n",
    "final=probabilidad+probabilidad2\n",
    "print(\"probabilidad de que alguien tenga  \"+ str(edad) +\" de años y compre un seguro es de \"+ str(final)[0:4] + \"%\")\n",
    "​"
   ]
  },
  {
   "cell_type": "markdown",
   "metadata": {},
   "source": [
    "**¿Que estado, en promedio, necesita menos cotizaciones?**"
   ]
  },
  {
   "cell_type": "code",
   "execution_count": null,
   "metadata": {
    "collapsed": true
   },
   "outputs": [],
   "source": [
    "import pandas as pd\n",
    "import numpy as np\n",
    "from __future__ import division\n",
    "import matplotlib.pyplot as plt\n",
    "import seaborn as sns\n",
    "\n",
    "bystate=csv[csv.record_type==1].groupby(\"state\")\n",
    "bystate.shopping_pt.mean().min()"
   ]
  },
  {
   "cell_type": "markdown",
   "metadata": {},
   "source": [
    "**¿Cuántas cotizaciones, previo la compra, realizan los consumidores del estado de Florida?**"
   ]
  },
  {
   "cell_type": "code",
   "execution_count": null,
   "metadata": {
    "collapsed": true
   },
   "outputs": [],
   "source": [
    "import pandas as pd\n",
    "import numpy as np\n",
    "from __future__ import division\n",
    "import matplotlib.pyplot as plt\n",
    "import seaborn as sns\n",
    "\n",
    "bystate=csv[csv.record_type==1].groupby(\"state\")\n",
    "bystate.shopping_pt.mean()"
   ]
  },
  {
   "cell_type": "markdown",
   "metadata": {},
   "source": [
    "**¿En qué tiempo prudente se realizan las cotizaciones?**"
   ]
  },
  {
   "cell_type": "code",
   "execution_count": null,
   "metadata": {
    "collapsed": true
   },
   "outputs": [],
   "source": [
    "import pandas as pd\n",
    "import numpy as np\n",
    "from __future__ import division\n",
    "import matplotlib.pyplot as plt\n",
    "import seaborn as sns\n",
    "\n",
    "tmp = csv[(csv.record_type == 1)]\n",
    "tmp.count()\n",
    "tmp.time.mode()\n",
    "​"
   ]
  },
  {
   "cell_type": "markdown",
   "metadata": {},
   "source": [
    "**¿Del total de carros que porcentaje tiene menos de k años?**"
   ]
  },
  {
   "cell_type": "code",
   "execution_count": null,
   "metadata": {
    "collapsed": true
   },
   "outputs": [],
   "source": [
    "import pandas as pd\n",
    "import numpy as np\n",
    "from __future__ import division\n",
    "import matplotlib.pyplot as plt\n",
    "import seaborn as sns\n",
    "\n",
    "csv.car_age.describe()\n",
    "​\n",
    "​\n",
    "​\n",
    "for i in range (0, 86):\n",
    "    \n",
    "    n = csv.car_age[csv.car_age == i].count()\n",
    "    d = csv.car_age.count()\n",
    "    \n",
    "    x = (n/d) * 100 \n",
    "    \n",
    "    y = \"El porcentaje de carros con edad  \" + str(i) + \" es de \" + str(x)\n",
    "    \n",
    "    print y\n",
    "​\n",
    "​\n",
    "​\n",
    "​\n",
    "    n = csv.car_age[csv.car_age == 1].count() + csv.car_age[csv.car_age == 2].count() + csv.car_age[csv.car_age == 3].count() + csv.car_age[csv.car_age == 4].count()\n",
    "    d = csv.car_age.count()\n",
    "    \n",
    "    x = (n/d) * 100\n",
    "    \n",
    "    print \"El porcentaje de carro con menos de 5 años es de \" + str(x) + \"%\"\n",
    "    \n",
    "    \n",
    "    \n",
    "    n = csv.car_age[csv.car_age < 5].count()\n",
    "    d = csv.car_age.count()\n",
    "    \n",
    "    x = (n/d) * 100\n",
    "    \n",
    "    print \"El porcentaje de carro con menos de 5 años es de \" + str(x) + \"%\""
   ]
  },
  {
   "cell_type": "markdown",
   "metadata": {},
   "source": [
    "**¿Que edad necesita menos cotizaciones para comprar un seguro?**"
   ]
  },
  {
   "cell_type": "code",
   "execution_count": 2,
   "metadata": {
    "collapsed": false
   },
   "outputs": [
    {
     "ename": "NameError",
     "evalue": "name 'csv' is not defined",
     "output_type": "error",
     "traceback": [
      "\u001b[1;31m---------------------------------------------------------------------------\u001b[0m",
      "\u001b[1;31mNameError\u001b[0m                                 Traceback (most recent call last)",
      "\u001b[1;32m<ipython-input-2-45a309c49ed0>\u001b[0m in \u001b[0;36m<module>\u001b[1;34m()\u001b[0m\n\u001b[1;32m----> 1\u001b[1;33m \u001b[0mdatos\u001b[0m \u001b[1;33m=\u001b[0m \u001b[0mcsv\u001b[0m\u001b[1;33m[\u001b[0m\u001b[1;33m[\u001b[0m\u001b[1;34m'record_type'\u001b[0m\u001b[1;33m,\u001b[0m\u001b[1;34m'shopping_pt'\u001b[0m\u001b[1;33m,\u001b[0m\u001b[1;34m'age_youngest'\u001b[0m\u001b[1;33m]\u001b[0m\u001b[1;33m]\u001b[0m\u001b[1;33m\u001b[0m\u001b[0m\n\u001b[0m\u001b[0;32m      2\u001b[0m \u001b[0mcotizacion\u001b[0m \u001b[1;33m=\u001b[0m \u001b[0mdatos\u001b[0m\u001b[1;33m[\u001b[0m\u001b[0mdatos\u001b[0m\u001b[1;33m.\u001b[0m\u001b[0mrecord_type\u001b[0m \u001b[1;33m==\u001b[0m \u001b[1;36m1\u001b[0m\u001b[1;33m]\u001b[0m\u001b[1;33m\u001b[0m\u001b[0m\n\u001b[0;32m      3\u001b[0m \u001b[0mpequenacot\u001b[0m \u001b[1;33m=\u001b[0m \u001b[0mmin\u001b[0m\u001b[1;33m(\u001b[0m\u001b[0mcotizacion\u001b[0m\u001b[1;33m.\u001b[0m\u001b[0mshopping_pt\u001b[0m\u001b[1;33m)\u001b[0m\u001b[1;33m\u001b[0m\u001b[0m\n\u001b[0;32m      4\u001b[0m \u001b[0mcantidad\u001b[0m \u001b[1;33m=\u001b[0m \u001b[0mcotizacion\u001b[0m\u001b[1;33m[\u001b[0m\u001b[0mcotizacion\u001b[0m\u001b[1;33m.\u001b[0m\u001b[0mshopping_pt\u001b[0m \u001b[1;33m==\u001b[0m \u001b[0mpequenacot\u001b[0m\u001b[1;33m]\u001b[0m\u001b[1;33m\u001b[0m\u001b[0m\n\u001b[0;32m      5\u001b[0m \u001b[0mm\u001b[0m \u001b[1;33m=\u001b[0m \u001b[0mcantidad\u001b[0m\u001b[1;33m.\u001b[0m\u001b[0mmode\u001b[0m\u001b[1;33m(\u001b[0m\u001b[1;33m)\u001b[0m\u001b[1;33m\u001b[0m\u001b[0m\n",
      "\u001b[1;31mNameError\u001b[0m: name 'csv' is not defined"
     ]
    }
   ],
   "source": [
    "import pandas as pd\n",
    "import numpy as np\n",
    "from __future__ import division\n",
    "import matplotlib.pyplot as plt\n",
    "import seaborn as sns\n",
    "\n",
    "datos = csv[['record_type','shopping_pt','age_youngest']]\n",
    "cotizacion = datos[datos.record_type == 1]\n",
    "pequenacot = min(cotizacion.shopping_pt)\n",
    "cantidad = cotizacion[cotizacion.shopping_pt == pequenacot]\n",
    "m = cantidad.mode()\n",
    "print 'Las personas que menos cotizaciones necsitan para comprar tienen edad de: ' + str(int(m.age_youngest))"
   ]
  },
  {
   "cell_type": "markdown",
   "metadata": {},
   "source": [
    "### Infografía\n",
    "\n",
    "Una vez contestadas las preguntas, se utilizó la [herramienta online](https://www.canva.com/) llamada Canva para la elaboración de la infografía final. <br >\n",
    "La respectiva infografía está adjunta en el repositorio."
   ]
  }
 ],
 "metadata": {
  "kernelspec": {
   "display_name": "Python 2",
   "language": "python",
   "name": "python2"
  },
  "language_info": {
   "codemirror_mode": {
    "name": "ipython",
    "version": 2
   },
   "file_extension": ".py",
   "mimetype": "text/x-python",
   "name": "python",
   "nbconvert_exporter": "python",
   "pygments_lexer": "ipython2",
   "version": "2.7.11"
  }
 },
 "nbformat": 4,
 "nbformat_minor": 0
}
