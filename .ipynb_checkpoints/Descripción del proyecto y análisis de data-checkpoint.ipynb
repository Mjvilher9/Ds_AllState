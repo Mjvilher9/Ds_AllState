{
 "cells": [
  {
   "cell_type": "markdown",
   "metadata": {},
   "source": [
    "# All State CSV\n",
    "\n",
    "## Descripción\n",
    "\n",
    "El archivo con el que se realizó el proyecto cuenta con los datos tomados en una compañía de ventas de seguros. Los datos fueron recolectados en las sucursales de todo el país (EEUU) y en durante el período de una semana (Lu - Do). \n",
    "\n",
    "\n",
    "El objetivo del proyecto fue contestar una serie de preguntas planteadas en conjunto por el curso de Data Science. Las 10 preguntas a contestar son las siguientes:\n",
    "\n",
    "\n",
    "1. ¿Qué características tienen los grupos a los que se les cotiza los seguros más baratos?\n",
    "2. ¿Qué tan probable es que se compre un seguro después de la k-ésima cotización?\n",
    "3. Basados en la edad del más joven. ¿Que grupo tiene mayor probabilidad de comprar un seguro?\n",
    "4. ¿Que edad promedio tienen las personas dueñas de carros vieos y carros nuevos?\n",
    "5. ¿Probabilidad de que alguien de edad k compre un seguro?\n",
    "6. ¿Que estado, en promedio, necesita menos cotizaciones?\n",
    "7. ¿Cuántas cotizaciones, previo la compra, realizan los consumidores del estado de Florida?\n",
    "8. ¿En qué tiempo prudente se realizan las cotizaciones?\n",
    "9. ¿Del total de carros que porcentaje tiene menos de k años?\n",
    "10. ¿Que edad necesita menos cotizaciones para comprar un seguro?\n",
    "\n",
    "\n",
    "Una vez contestadas las preguntas, el producto final ha sido una infografía realizada en base a las respuestas obtenidas del análisis de datos.\n"
   ]
  },
  {
   "cell_type": "markdown",
   "metadata": {},
   "source": [
    "## Análisis de Datos \n",
    "\n",
    "En esta sección se visualizan los comandos utilizados para llegar a cada pregunta en específico."
   ]
  },
  {
   "cell_type": "markdown",
   "metadata": {},
   "source": [
    "**¿Qué características tienen los grupos a los que se les cotiza los seguros más baratos?**"
   ]
  },
  {
   "cell_type": "code",
   "execution_count": null,
   "metadata": {
    "collapsed": true
   },
   "outputs": [],
   "source": []
  },
  {
   "cell_type": "markdown",
   "metadata": {},
   "source": [
    "**¿Qué tan probable es que se compre un seguro después de la k-ésima cotización?**"
   ]
  },
  {
   "cell_type": "code",
   "execution_count": 1,
   "metadata": {
    "collapsed": false
   },
   "outputs": [
    {
     "ename": "SyntaxError",
     "evalue": "invalid syntax (<ipython-input-1-ee46541e09a3>, line 7)",
     "output_type": "error",
     "traceback": [
      "\u001b[1;36m  File \u001b[1;32m\"<ipython-input-1-ee46541e09a3>\"\u001b[1;36m, line \u001b[1;32m7\u001b[0m\n\u001b[1;33m    ​\u001b[0m\n\u001b[1;37m    ^\u001b[0m\n\u001b[1;31mSyntaxError\u001b[0m\u001b[1;31m:\u001b[0m invalid syntax\n"
     ]
    }
   ],
   "source": [
    "\n",
    "import pandas as pd\n",
    "import numpy as np\n",
    "from __future__ import division\n",
    "import matplotlib.pyplot as plt\n",
    "import seaborn as sns\n",
    "​\n",
    "​\n",
    "csv = pd.read_csv('allstate.csv')\n",
    "n = csv.shopping_pt[csv.shopping_pt == 5].count()\n",
    "d = csv.shopping_pt[csv.shopping_pt == 1].count()\n",
    "    \n",
    "x = 100 - ((n/d) * 100)\n",
    "    \n",
    "y = \"La probabilidad de compra en la cotizacion no. 5 o antes es de \" + str(x)\n",
    "    \n",
    "print y"
   ]
  },
  {
   "cell_type": "markdown",
   "metadata": {},
   "source": [
    "**Basados en la edad del más joven. ¿Que grupo tiene mayor probabilidad de comprar un seguro?**"
   ]
  },
  {
   "cell_type": "code",
   "execution_count": null,
   "metadata": {
    "collapsed": true
   },
   "outputs": [],
   "source": []
  },
  {
   "cell_type": "markdown",
   "metadata": {},
   "source": [
    "**¿Que edad promedio tienen las personas dueñas de carros vieos y carros nuevos?**"
   ]
  },
  {
   "cell_type": "code",
   "execution_count": null,
   "metadata": {
    "collapsed": true
   },
   "outputs": [],
   "source": []
  },
  {
   "cell_type": "markdown",
   "metadata": {},
   "source": [
    "**¿Probabilidad de que alguien de edad k compre un seguro?**"
   ]
  },
  {
   "cell_type": "code",
   "execution_count": null,
   "metadata": {
    "collapsed": true
   },
   "outputs": [],
   "source": []
  },
  {
   "cell_type": "markdown",
   "metadata": {},
   "source": [
    "**¿Que estado, en promedio, necesita menos cotizaciones?**"
   ]
  },
  {
   "cell_type": "code",
   "execution_count": null,
   "metadata": {
    "collapsed": true
   },
   "outputs": [],
   "source": []
  },
  {
   "cell_type": "markdown",
   "metadata": {},
   "source": [
    "**¿Cuántas cotizaciones, previo la compra, realizan los consumidores del estado de Florida?**"
   ]
  },
  {
   "cell_type": "code",
   "execution_count": null,
   "metadata": {
    "collapsed": true
   },
   "outputs": [],
   "source": []
  },
  {
   "cell_type": "markdown",
   "metadata": {},
   "source": [
    "**¿En qué tiempo prudente se realizan las cotizaciones?**"
   ]
  },
  {
   "cell_type": "code",
   "execution_count": null,
   "metadata": {
    "collapsed": true
   },
   "outputs": [],
   "source": []
  },
  {
   "cell_type": "markdown",
   "metadata": {},
   "source": [
    "**¿Del total de carros que porcentaje tiene menos de k años?**"
   ]
  },
  {
   "cell_type": "code",
   "execution_count": null,
   "metadata": {
    "collapsed": true
   },
   "outputs": [],
   "source": []
  },
  {
   "cell_type": "markdown",
   "metadata": {},
   "source": [
    "**¿Que edad necesita menos cotizaciones para comprar un seguro?**"
   ]
  },
  {
   "cell_type": "code",
   "execution_count": null,
   "metadata": {
    "collapsed": true
   },
   "outputs": [],
   "source": []
  },
  {
   "cell_type": "markdown",
   "metadata": {},
   "source": [
    "### Infografía\n",
    "\n",
    "Una vez contestadas las preguntas, se utilizó la [herramienta online](https://www.canva.com/) llamada Canva para la elaboración de la infografía final. <br >\n",
    "La respectiva infografía está adjunta en el repositorio."
   ]
  }
 ],
 "metadata": {
  "kernelspec": {
   "display_name": "Python 2",
   "language": "python",
   "name": "python2"
  },
  "language_info": {
   "codemirror_mode": {
    "name": "ipython",
    "version": 2
   },
   "file_extension": ".py",
   "mimetype": "text/x-python",
   "name": "python",
   "nbconvert_exporter": "python",
   "pygments_lexer": "ipython2",
   "version": "2.7.11"
  }
 },
 "nbformat": 4,
 "nbformat_minor": 0
}
